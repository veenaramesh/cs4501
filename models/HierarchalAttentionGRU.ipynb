{
  "nbformat": 4,
  "nbformat_minor": 0,
  "metadata": {
    "colab": {
      "name": "HierarchalAttentionGRU.ipynb",
      "provenance": []
    },
    "kernelspec": {
      "name": "python3",
      "display_name": "Python 3"
    },
    "accelerator": "GPU"
  },
  "cells": [
    {
      "cell_type": "code",
      "metadata": {
        "id": "zZiv4N0n3VBJ"
      },
      "source": [
        "import numpy as np\n",
        "import pandas as pd\n",
        "\n",
        "import string\n",
        "\n",
        "import tensorflow as tf\n",
        "import keras\n",
        "from keras import backend as K\n",
        "from keras.engine.topology import Layer\n",
        "from keras.models import Sequential\n",
        "from keras.layers import Dense, LSTM, GRU, GlobalMaxPooling1D, Bidirectional, Dropout, TimeDistributed\n",
        "from keras.layers.embeddings import Embedding\n",
        "from keras.preprocessing import sequence, text\n",
        "from keras.callbacks import EarlyStopping\n",
        "\n",
        "import json\n",
        "\n",
        "import sklearn\n",
        "from sklearn.preprocessing import LabelEncoder\n",
        "from sklearn.metrics import f1_score"
      ],
      "execution_count": null,
      "outputs": []
    },
    {
      "cell_type": "code",
      "metadata": {
        "id": "mogoJ8LX33lK"
      },
      "source": [
        "from pydrive.auth import GoogleAuth\n",
        "from pydrive.drive import GoogleDrive\n",
        "from google.colab import auth\n",
        "from oauth2client.client import GoogleCredentials"
      ],
      "execution_count": null,
      "outputs": []
    },
    {
      "cell_type": "code",
      "metadata": {
        "id": "-T4ZwG1J9DuX"
      },
      "source": [
        "auth.authenticate_user()\n",
        "gauth = GoogleAuth()\n",
        "gauth.credentials = GoogleCredentials.get_application_default()\n",
        "drive = GoogleDrive(gauth)"
      ],
      "execution_count": null,
      "outputs": []
    },
    {
      "cell_type": "code",
      "metadata": {
        "id": "Ps9_ceBG-AXr"
      },
      "source": [
        "downloaded = drive.CreateFile({'id':\"1JJKTmOX7NnWHzx4HqXcSq9OKslrVBVuT\"})\n",
        "downloaded.GetContentFile('lyrics.csv')"
      ],
      "execution_count": null,
      "outputs": []
    },
    {
      "cell_type": "markdown",
      "metadata": {
        "id": "YXxb_bRL66bW"
      },
      "source": [
        "# Data Preprocessing"
      ]
    },
    {
      "cell_type": "code",
      "metadata": {
        "id": "a5KT-FmD-Gbw"
      },
      "source": [
        "def formatdata(path):\n",
        "    data = pd.read_csv(path)\n",
        "    data = data[data['lyrics'].notnull()]\n",
        "    \n",
        "    # Remove punctuation\n",
        "    data['lyrics'] = data['lyrics'].str.replace(\"[-\\?.,\\/#!$%\\^&\\*;:{}=\\_~()]\", ' ')\n",
        "    \n",
        "    # Remove song identifiers using regex\n",
        "    data['lyrics'] = data['lyrics'].str.replace(\"\\[(.*?)\\]\", ' ')\n",
        "    data['lyrics'] = data['lyrics'].str.replace(\"' | '\", ' ')\n",
        "    data['lyrics'] = data['lyrics'].str.replace('x[0-9]+', ' ')\n",
        "    \n",
        "    # Remove lyricless songs \n",
        "    data = data[data['lyrics'].str.strip().str.lower() != 'instrumental']\n",
        "    \n",
        "    # fix stuff like [verse] and 'repeat x2'\n",
        "    data = data[~data['lyrics'].str.contains(r'[^\\x00-\\x7F]+')]\n",
        "    data = data[data['lyrics'].str.strip() != '']\n",
        "    data = data[data['genre'].str.lower() != 'not available']\n",
        "    \n",
        "    # Grouping Folk and Country to one genre\n",
        "    data['genre'] = np.where(data['genre'] == \"Folk\", \"Country\", data[\"genre\"])\n",
        "    data = data[data['genre'].isin(['Rock', 'Pop', 'Country', 'Hip-Hop'])]\n",
        "\n",
        "    return data.copy()"
      ],
      "execution_count": null,
      "outputs": []
    },
    {
      "cell_type": "code",
      "metadata": {
        "id": "JgSVkI2--Ybg"
      },
      "source": [
        "data = formatdata('lyrics.csv')"
      ],
      "execution_count": null,
      "outputs": []
    },
    {
      "cell_type": "code",
      "metadata": {
        "colab": {
          "base_uri": "https://localhost:8080/"
        },
        "id": "ED2wojv9yzsh",
        "outputId": "d63d8638-b223-4c79-96ed-a72460312fdc"
      },
      "source": [
        "data['genre'].unique()"
      ],
      "execution_count": null,
      "outputs": [
        {
          "output_type": "execute_result",
          "data": {
            "text/plain": [
              "array(['Pop', 'Hip-Hop', 'Rock', 'Country'], dtype=object)"
            ]
          },
          "metadata": {
            "tags": []
          },
          "execution_count": 7
        }
      ]
    },
    {
      "cell_type": "code",
      "metadata": {
        "colab": {
          "base_uri": "https://localhost:8080/"
        },
        "id": "eKN0CRtT_JaM",
        "outputId": "a792312f-30de-43ad-fbfe-32260c24cbc5"
      },
      "source": [
        "from collections import Counter \n",
        "Counter(data['genre'])"
      ],
      "execution_count": null,
      "outputs": [
        {
          "output_type": "execute_result",
          "data": {
            "text/plain": [
              "Counter({'Country': 15847, 'Hip-Hop': 22654, 'Pop': 34137, 'Rock': 100044})"
            ]
          },
          "metadata": {
            "tags": []
          },
          "execution_count": 8
        }
      ]
    },
    {
      "cell_type": "code",
      "metadata": {
        "id": "oeY3Y0KZ_QtW"
      },
      "source": [
        "lyrics = data['lyrics'].values \n",
        "\n",
        "label_encoder = LabelEncoder()\n",
        "indexed_labels = np.array(label_encoder.fit_transform(data['genre'].values))"
      ],
      "execution_count": null,
      "outputs": []
    },
    {
      "cell_type": "code",
      "metadata": {
        "id": "aWdEf0GRAUA3"
      },
      "source": [
        "max_words = 30000\n",
        "\n",
        "tokenizer = text.Tokenizer(num_words=max_words, oov_token=\"<UNK>\")\n",
        "tokenizer.fit_on_texts(lyrics)\n",
        "\n",
        "tokenizer.word_index = {v:i for v,i in tokenizer.word_index.items() if i <= max_words}\n",
        "tokenizer.word_index[tokenizer.oov_token] = max_words+1"
      ],
      "execution_count": null,
      "outputs": []
    },
    {
      "cell_type": "code",
      "metadata": {
        "id": "69KGxifCAts6"
      },
      "source": [
        "MAX_NUM_LINES = 60\n",
        "MAX_WORDS_PER_LINE = 10 \n",
        "\n",
        "def get_indexed_data_by_line():\n",
        "    # Use this zero vector when padding lines.\n",
        "    zero_line_vector = MAX_WORDS_PER_LINE*[tokenizer.word_index[tokenizer.oov_token]]\n",
        "    indexed_data = []\n",
        "    for txt in lyrics:\n",
        "        lines = txt.split('\\n')\n",
        "        lines = tokenizer.texts_to_sequences(lines)[0]\n",
        "        wordIndices = [lines[i:i+MAX_WORDS_PER_LINE] for i in range(0, len(lines), MAX_WORDS_PER_LINE)]\n",
        "        song_padded = wordIndices[:MAX_NUM_LINES] + (MAX_NUM_LINES-len(wordIndices)) * [zero_line_vector]\n",
        "        padded = sequence.pad_sequences(song_padded, maxlen=MAX_WORDS_PER_LINE)\n",
        "        indexed_data.append(padded) \n",
        "    \n",
        "    return indexed_data"
      ],
      "execution_count": null,
      "outputs": []
    },
    {
      "cell_type": "code",
      "metadata": {
        "id": "DfDnoFD8SyLa"
      },
      "source": [
        "idx_data = get_indexed_data_by_line()"
      ],
      "execution_count": null,
      "outputs": []
    },
    {
      "cell_type": "code",
      "metadata": {
        "id": "cnoKDL37WJ22"
      },
      "source": [
        "idx_data_1 = np.array(idx_data)"
      ],
      "execution_count": null,
      "outputs": []
    },
    {
      "cell_type": "code",
      "metadata": {
        "id": "cp_gOUdql3sG"
      },
      "source": [
        "number_test = 34536"
      ],
      "execution_count": null,
      "outputs": []
    },
    {
      "cell_type": "code",
      "metadata": {
        "id": "g2emcm9xXiYz"
      },
      "source": [
        "random_indexes = np.random.permutation(len(indexed_labels))\n",
        "idx_data_1 = idx_data_1[random_indexes]\n",
        "indexed_labels = indexed_labels[random_indexes]\n",
        "\n",
        "X_train = idx_data_1[:-number_test]\n",
        "y_train = indexed_labels[:-number_test]\n",
        "X_test  = idx_data_1[-number_test:]\n",
        "y_test  = indexed_labels[-number_test:]"
      ],
      "execution_count": null,
      "outputs": []
    },
    {
      "cell_type": "code",
      "metadata": {
        "id": "zxDeg9Es7Gny"
      },
      "source": [
        "vocab_size = max_words + 2"
      ],
      "execution_count": null,
      "outputs": []
    },
    {
      "cell_type": "markdown",
      "metadata": {
        "id": "4oX26PuL7BJL"
      },
      "source": [
        "# Implementation of Attention Layer"
      ]
    },
    {
      "cell_type": "code",
      "metadata": {
        "id": "XgL7IfRAmW7F"
      },
      "source": [
        "class AttLayer(Layer):\n",
        "    def __init__(self, **kwargs):\n",
        "        self.hidden_dim = attention_size\n",
        "        super(AttLayer,self).__init__(**kwargs)\n",
        "\n",
        "    def build(self, input_shape):\n",
        "        self.W = self.add_weight(name='kernel', shape=(input_shape[-1], self.hidden_dim), initializer = 'he_normal', trainable=True)\n",
        "        self.bw = self.add_weight(name='bias', shape=(self.hidden_dim,), initializer = 'zero', trainable=True)\n",
        "        self.uw = self.add_weight(name='uw', shape=(self.hidden_dim,), initializer = 'he_normal', trainable=True)\n",
        "        self._trainable_weights = [self.W, self.bw, self.uw]\n",
        "        super(AttLayer,self).build(input_shape)\n",
        "\n",
        "    def call(self, x, mask=None):\n",
        "        x_reshaped = tf.reshape(x, [K.shape(x)[0]*K.shape(x)[1], K.shape(x)[-1]])\n",
        "        ui = K.tanh(K.dot(x_reshaped, self.W) + self.bw)\n",
        "        intermed = tf.reduce_sum(tf.multiply(self.uw, ui), axis=1)\n",
        "\n",
        "        weights = tf.nn.softmax(tf.reshape(intermed, [K.shape(x)[0], K.shape(x)[1]]), axis=-1)\n",
        "        weights = tf.expand_dims(weights, axis=-1)\n",
        "\n",
        "        weighted_input = x*weights\n",
        "        return K.sum(weighted_input, axis=1)\n",
        "\n",
        "    def get_output_shape_for(self, input_shape):\n",
        "        return (input_shape[0], input_shape[2])\n",
        "    \n",
        "    def compute_output_shape(self, input_shape):\n",
        "        return (input_shape[0], input_shape[2])"
      ],
      "execution_count": null,
      "outputs": []
    },
    {
      "cell_type": "markdown",
      "metadata": {
        "id": "JZAHPobp7JOt"
      },
      "source": [
        "# Initial HAN-GRU Model"
      ]
    },
    {
      "cell_type": "code",
      "metadata": {
        "colab": {
          "base_uri": "https://localhost:8080/"
        },
        "id": "TGtwoyh1rNHn",
        "outputId": "531ceda1-0e87-4120-a8d7-97d79f7e4d5b"
      },
      "source": [
        "attention_size = 200\n",
        "embedding_vector_length = 128\n",
        "hidden_size = 64 \n",
        "dropout = .5\n",
        "\n",
        "model1 = Sequential()\n",
        "model1.add(Embedding(vocab_size, embedding_vector_length, input_shape=(MAX_WORDS_PER_LINE, )))\n",
        "model1.add(Bidirectional(GRU(hidden_size, return_sequences=True)))\n",
        "model1.add(AttLayer())\n",
        "model1.add(Dropout(.5))\n",
        "\n",
        "model1_final = Sequential()\n",
        "model1_final.add(TimeDistributed(model1, input_shape=(MAX_NUM_LINES, MAX_WORDS_PER_LINE)))\n",
        "model1_final.add(Bidirectional(GRU(hidden_size, return_sequences=True)))\n",
        "model1_final.add(AttLayer())\n",
        "model1_final.add(Dropout(.5))\n",
        "model1_final.add(Dense(4, activation='softmax'))\n",
        "\n",
        "model1_final.compile(loss='sparse_categorical_crossentropy', optimizer='adam', metrics=['accuracy'])\n",
        "print(model1_final.summary())"
      ],
      "execution_count": null,
      "outputs": [
        {
          "output_type": "stream",
          "text": [
            "Model: \"sequential_5\"\n",
            "_________________________________________________________________\n",
            "Layer (type)                 Output Shape              Param #   \n",
            "=================================================================\n",
            "time_distributed_2 (TimeDist (None, 60, 128)           3940752   \n",
            "_________________________________________________________________\n",
            "bidirectional_5 (Bidirection (None, 60, 128)           74496     \n",
            "_________________________________________________________________\n",
            "att_layer_5 (AttLayer)       (None, 128)               26000     \n",
            "_________________________________________________________________\n",
            "dropout_5 (Dropout)          (None, 128)               0         \n",
            "_________________________________________________________________\n",
            "dense_2 (Dense)              (None, 4)                 516       \n",
            "=================================================================\n",
            "Total params: 4,041,764\n",
            "Trainable params: 4,041,764\n",
            "Non-trainable params: 0\n",
            "_________________________________________________________________\n",
            "None\n"
          ],
          "name": "stdout"
        }
      ]
    },
    {
      "cell_type": "code",
      "metadata": {
        "colab": {
          "base_uri": "https://localhost:8080/"
        },
        "id": "yvhKj0HYr1A-",
        "outputId": "af83722d-c49c-462c-88ab-da0c1718b3bf"
      },
      "source": [
        "model1_final.fit(X_train.squeeze(), y_train, epochs=5, batch_size=64)"
      ],
      "execution_count": null,
      "outputs": [
        {
          "output_type": "stream",
          "text": [
            "Epoch 1/5\n",
            "2159/2159 [==============================] - 147s 68ms/step - loss: 0.7804 - accuracy: 0.6993\n",
            "Epoch 2/5\n",
            "2159/2159 [==============================] - 149s 69ms/step - loss: 0.6554 - accuracy: 0.7435\n",
            "Epoch 3/5\n",
            "2159/2159 [==============================] - 148s 69ms/step - loss: 0.5819 - accuracy: 0.7720\n",
            "Epoch 4/5\n",
            "2159/2159 [==============================] - 146s 67ms/step - loss: 0.5141 - accuracy: 0.7981\n",
            "Epoch 5/5\n",
            "2159/2159 [==============================] - 145s 67ms/step - loss: 0.4495 - accuracy: 0.8249\n"
          ],
          "name": "stdout"
        },
        {
          "output_type": "execute_result",
          "data": {
            "text/plain": [
              "<tensorflow.python.keras.callbacks.History at 0x7f80c5f4c6a0>"
            ]
          },
          "metadata": {
            "tags": []
          },
          "execution_count": 38
        }
      ]
    },
    {
      "cell_type": "code",
      "metadata": {
        "colab": {
          "base_uri": "https://localhost:8080/"
        },
        "id": "1MONRSxLszld",
        "outputId": "e340386f-b484-4c23-c0f9-aadcec73d753"
      },
      "source": [
        "model1_final.evaluate(X_test, y_test)"
      ],
      "execution_count": null,
      "outputs": [
        {
          "output_type": "stream",
          "text": [
            "1080/1080 [==============================] - 9s 8ms/step - loss: 0.8266 - accuracy: 0.6982\n"
          ],
          "name": "stdout"
        },
        {
          "output_type": "execute_result",
          "data": {
            "text/plain": [
              "[0.8265723586082458, 0.698170006275177]"
            ]
          },
          "metadata": {
            "tags": []
          },
          "execution_count": 40
        }
      ]
    },
    {
      "cell_type": "code",
      "metadata": {
        "colab": {
          "base_uri": "https://localhost:8080/"
        },
        "id": "Sas9p8WAx_jt",
        "outputId": "8af4b177-e313-4980-f448-fbec6868d4b3"
      },
      "source": [
        "f1_score(np.argmax(model2_final.predict(X_test), axis=1), y_test, average='weighted')"
      ],
      "execution_count": null,
      "outputs": [
        {
          "output_type": "execute_result",
          "data": {
            "text/plain": [
              "0.6973063396569681"
            ]
          },
          "metadata": {
            "tags": []
          },
          "execution_count": 41
        }
      ]
    },
    {
      "cell_type": "markdown",
      "metadata": {
        "id": "05RXfB9E7PFJ"
      },
      "source": [
        "# Final Model After Parameter Tuning"
      ]
    },
    {
      "cell_type": "code",
      "metadata": {
        "id": "-fz19hGzmnWo",
        "colab": {
          "base_uri": "https://localhost:8080/"
        },
        "outputId": "64459e7b-7fc6-45dc-bccb-5e4b5ab07fb9"
      },
      "source": [
        "attention_size = 100\n",
        "embedding_vector_length = 32\n",
        "hidden_size = 50 \n",
        "dropout = .5\n",
        "\n",
        "model = Sequential()\n",
        "model.add(Embedding(vocab_size, embedding_vector_length, input_shape=(MAX_WORDS_PER_LINE, )))\n",
        "model.add(Bidirectional(GRU(hidden_size, return_sequences=True)))\n",
        "model.add(AttLayer())\n",
        "model.add(Dropout(.5))\n",
        "\n",
        "model_final = Sequential()\n",
        "model_final.add(TimeDistributed(model, input_shape=(MAX_NUM_LINES, MAX_WORDS_PER_LINE)))\n",
        "model_final.add(Bidirectional(GRU(hidden_size, return_sequences=True)))\n",
        "model_final.add(AttLayer())\n",
        "model_final.add(Dropout(.5))\n",
        "model_final.add(Dense(4, activation='softmax'))\n",
        "\n",
        "#es = EarlyStopping(monitor='val_loss', mode='min', verbose=1)\n",
        "model_final.compile(loss='sparse_categorical_crossentropy', optimizer='adam', metrics=['accuracy'])\n",
        "\n",
        "print(model_final.summary())"
      ],
      "execution_count": null,
      "outputs": [
        {
          "output_type": "stream",
          "text": [
            "Model: \"sequential_1\"\n",
            "_________________________________________________________________\n",
            "Layer (type)                 Output Shape              Param #   \n",
            "=================================================================\n",
            "time_distributed (TimeDistri (None, 60, 100)           995464    \n",
            "_________________________________________________________________\n",
            "bidirectional_1 (Bidirection (None, 60, 100)           45600     \n",
            "_________________________________________________________________\n",
            "att_layer_1 (AttLayer)       (None, 100)               10200     \n",
            "_________________________________________________________________\n",
            "dropout_1 (Dropout)          (None, 100)               0         \n",
            "_________________________________________________________________\n",
            "dense (Dense)                (None, 4)                 404       \n",
            "=================================================================\n",
            "Total params: 1,051,668\n",
            "Trainable params: 1,051,668\n",
            "Non-trainable params: 0\n",
            "_________________________________________________________________\n",
            "None\n"
          ],
          "name": "stdout"
        }
      ]
    },
    {
      "cell_type": "code",
      "metadata": {
        "id": "KjJ6PdVgmtl1",
        "colab": {
          "base_uri": "https://localhost:8080/"
        },
        "outputId": "49b7518b-6ab6-419e-b2b2-180ff656b067"
      },
      "source": [
        "model_final.fit(X_train.squeeze(), y_train, epochs=4, batch_size=64)"
      ],
      "execution_count": null,
      "outputs": [
        {
          "output_type": "stream",
          "text": [
            "Epoch 1/4\n",
            "2159/2159 [==============================] - 66s 30ms/step - loss: 0.8031 - accuracy: 0.6935\n",
            "Epoch 2/4\n",
            "2159/2159 [==============================] - 65s 30ms/step - loss: 0.6726 - accuracy: 0.7368\n",
            "Epoch 3/4\n",
            "2159/2159 [==============================] - 65s 30ms/step - loss: 0.6069 - accuracy: 0.7625\n",
            "Epoch 4/4\n",
            "2159/2159 [==============================] - 65s 30ms/step - loss: 0.5563 - accuracy: 0.7818\n"
          ],
          "name": "stdout"
        },
        {
          "output_type": "execute_result",
          "data": {
            "text/plain": [
              "<tensorflow.python.keras.callbacks.History at 0x7f817a518be0>"
            ]
          },
          "metadata": {
            "tags": []
          },
          "execution_count": 24
        }
      ]
    },
    {
      "cell_type": "code",
      "metadata": {
        "colab": {
          "base_uri": "https://localhost:8080/"
        },
        "id": "ue7cmokLaTyy",
        "outputId": "3f2f982e-3027-4d1b-c968-fb841c981b62"
      },
      "source": [
        "model_final.evaluate(X_test, y_test)"
      ],
      "execution_count": null,
      "outputs": [
        {
          "output_type": "stream",
          "text": [
            "1080/1080 [==============================] - 7s 7ms/step - loss: 0.7351 - accuracy: 0.7208\n"
          ],
          "name": "stdout"
        },
        {
          "output_type": "execute_result",
          "data": {
            "text/plain": [
              "[0.7350972890853882, 0.7207841277122498]"
            ]
          },
          "metadata": {
            "tags": []
          },
          "execution_count": 25
        }
      ]
    },
    {
      "cell_type": "code",
      "metadata": {
        "colab": {
          "base_uri": "https://localhost:8080/"
        },
        "id": "s-Zt4K2Gf48A",
        "outputId": "228c604c-7959-4154-8cb6-1b381d94b9cf"
      },
      "source": [
        "f1_score(np.argmax(model_final.predict(X_test), axis=1), y_test, average='weighted')"
      ],
      "execution_count": null,
      "outputs": [
        {
          "output_type": "execute_result",
          "data": {
            "text/plain": [
              "0.7298769552344357"
            ]
          },
          "metadata": {
            "tags": []
          },
          "execution_count": 39
        }
      ]
    },
    {
      "cell_type": "code",
      "metadata": {
        "id": "Bl4f922ylMPE"
      },
      "source": [
        "from sklearn.metrics import confusion_matrix, ConfusionMatrixDisplay"
      ],
      "execution_count": null,
      "outputs": []
    },
    {
      "cell_type": "code",
      "metadata": {
        "colab": {
          "base_uri": "https://localhost:8080/",
          "height": 278
        },
        "id": "7RXzg8xelYzp",
        "outputId": "f292337b-d1bb-4f23-d14f-e030a4fde046"
      },
      "source": [
        "ConfusionMatrixDisplay(confusion_matrix(y_test, np.argmax(model_final.predict(X_test), axis=1)), display_labels=label_encoder.classes_).plot()\n",
        "plt.savefig(\"HANGRU-full.png\")"
      ],
      "execution_count": null,
      "outputs": [
        {
          "output_type": "display_data",
          "data": {
            "image/png": "[encoded data removed]",
            "text/plain": [
              "<Figure size 432x288 with 2 Axes>"
            ]
          },
          "metadata": {
            "tags": [],
            "needs_background": "light"
          }
        }
      ]
    }
  ]
}