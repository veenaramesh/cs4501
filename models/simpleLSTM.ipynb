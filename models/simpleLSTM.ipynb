{
  "nbformat": 4,
  "nbformat_minor": 0,
  "metadata": {
    "colab": {
      "name": "simpleLSTM.ipynb",
      "provenance": []
    },
    "kernelspec": {
      "name": "python3",
      "display_name": "Python 3"
    }
  },
  "cells": [
    {
      "cell_type": "code",
      "metadata": {
        "id": "ExT7FPiDqVbQ"
      },
      "source": [
        "import numpy as np\n",
        "import pandas as pd\n",
        "import tensorflow as tf\n",
        "\n",
        "import keras\n",
        "from keras.datasets import imdb\n",
        "from keras.models import Sequential\n",
        "from keras.layers import Dense\n",
        "from keras.layers import LSTM\n",
        "from keras.layers import Bidirectional\n",
        "\n",
        "from keras.layers import GlobalMaxPooling1D\n",
        "from keras.layers.embeddings import Embedding\n",
        "from keras.preprocessing import sequence, text\n",
        "import sklearn\n",
        "from sklearn import preprocessing as skpp \n",
        "from sklearn.model_selection import train_test_split"
      ],
      "execution_count": 1,
      "outputs": []
    },
    {
      "cell_type": "code",
      "metadata": {
        "id": "jM6LbzzKqYqW"
      },
      "source": [
        "df = pd.read_csv(\"english_cleaned_lyrics.csv\") # get data "
      ],
      "execution_count": 3,
      "outputs": []
    },
    {
      "cell_type": "code",
      "metadata": {
        "id": "ODUGJLb_qdc2"
      },
      "source": [
        "def cleaning(data): \n",
        "  data.dropna(axis=0, inplace=True)\n",
        "\n",
        "  # Remove punctuation\n",
        "  data['lyrics'] = data['lyrics'].str.replace(\"[-\\?.,\\/#!$%\\^&\\*;:{}=\\_~()]\", ' ')\n",
        "    \n",
        "  # Remove song identifiers using regex\n",
        "  data['lyrics'] = data['lyrics'].str.replace(\"\\[(.*?)\\]\", ' ')\n",
        "  data['lyrics'] = data['lyrics'].str.replace(\"' | '\", ' ')\n",
        "  data['lyrics'] = data['lyrics'].str.replace('x[0-9]+', ' ')\n",
        "    \n",
        "  # Remove lyricless songs \n",
        "  data = data[data['lyrics'].str.strip().str.lower() != 'instrumental']\n",
        "    \n",
        "  # fix shit like [verse] and 'repeat x2'\n",
        "  data = data[~data['lyrics'].str.contains(r'[^\\x00-\\x7F]+')]\n",
        "  data = data[data['lyrics'].str.strip() != '']\n",
        "  data = data[data['genre'].str.lower() != 'not available']\n",
        "    \n",
        "  # Grouping Folk and Country to one genre\n",
        "  data['genre'] = np.where(data['genre'] == \"Folk\", \"Country\", data[\"genre\"])\n",
        "  \n",
        "  pop = data.loc[data['genre'] == 'Pop']\n",
        "  rock = data.loc[data['genre'] == 'Rock']\n",
        "  hiphop = data.loc[data['genre'] == 'Hip-Hop']\n",
        "  country = data.loc[data['genre'] == 'Country']\n",
        "\n",
        "  data = pd.concat([pop, rock, hiphop, country])\n",
        "\n",
        "  return data.copy()"
      ],
      "execution_count": 2,
      "outputs": []
    },
    {
      "cell_type": "code",
      "metadata": {
        "id": "uBaADl3aqdq5"
      },
      "source": [
        "df = cleaning(df)"
      ],
      "execution_count": 4,
      "outputs": []
    },
    {
      "cell_type": "code",
      "metadata": {
        "id": "wAOAGGrVqiTG"
      },
      "source": [
        "df.drop(labels=['Unnamed: 0', 'index', 'song', 'year', 'artist'], axis=1, inplace=True)"
      ],
      "execution_count": 5,
      "outputs": []
    },
    {
      "cell_type": "code",
      "metadata": {
        "colab": {
          "base_uri": "https://localhost:8080/",
          "height": 204
        },
        "id": "SGNcEfEwqis-",
        "outputId": "9386faed-aa89-4e58-cf43-a0873089d051"
      },
      "source": [
        "df.head()"
      ],
      "execution_count": 6,
      "outputs": [
        {
          "output_type": "execute_result",
          "data": {
            "text/html": [
              "<div>\n",
              "<style scoped>\n",
              "    .dataframe tbody tr th:only-of-type {\n",
              "        vertical-align: middle;\n",
              "    }\n",
              "\n",
              "    .dataframe tbody tr th {\n",
              "        vertical-align: top;\n",
              "    }\n",
              "\n",
              "    .dataframe thead th {\n",
              "        text-align: right;\n",
              "    }\n",
              "</style>\n",
              "<table border=\"1\" class=\"dataframe\">\n",
              "  <thead>\n",
              "    <tr style=\"text-align: right;\">\n",
              "      <th></th>\n",
              "      <th>genre</th>\n",
              "      <th>lyrics</th>\n",
              "    </tr>\n",
              "  </thead>\n",
              "  <tbody>\n",
              "    <tr>\n",
              "      <th>0</th>\n",
              "      <td>Pop</td>\n",
              "      <td>Oh baby how you doing You know I'm gonna cut r...</td>\n",
              "    </tr>\n",
              "    <tr>\n",
              "      <th>1</th>\n",
              "      <td>Pop</td>\n",
              "      <td>playin everything so easy it's like you seem s...</td>\n",
              "    </tr>\n",
              "    <tr>\n",
              "      <th>2</th>\n",
              "      <td>Pop</td>\n",
              "      <td>If you search For tenderness It isn't hard to ...</td>\n",
              "    </tr>\n",
              "    <tr>\n",
              "      <th>3</th>\n",
              "      <td>Pop</td>\n",
              "      <td>Oh oh oh I oh oh oh I If I wrote a book about ...</td>\n",
              "    </tr>\n",
              "    <tr>\n",
              "      <th>4</th>\n",
              "      <td>Pop</td>\n",
              "      <td>Party the people the people the party it's pop...</td>\n",
              "    </tr>\n",
              "  </tbody>\n",
              "</table>\n",
              "</div>"
            ],
            "text/plain": [
              "  genre                                             lyrics\n",
              "0   Pop  Oh baby how you doing You know I'm gonna cut r...\n",
              "1   Pop  playin everything so easy it's like you seem s...\n",
              "2   Pop  If you search For tenderness It isn't hard to ...\n",
              "3   Pop  Oh oh oh I oh oh oh I If I wrote a book about ...\n",
              "4   Pop  Party the people the people the party it's pop..."
            ]
          },
          "metadata": {
            "tags": []
          },
          "execution_count": 6
        }
      ]
    },
    {
      "cell_type": "code",
      "metadata": {
        "colab": {
          "base_uri": "https://localhost:8080/"
        },
        "id": "EyVS4fxkqjP8",
        "outputId": "1db1dff0-bf93-48b6-e81a-a7bb8add8458"
      },
      "source": [
        "df.groupby(by='genre')['lyrics'].count()"
      ],
      "execution_count": 7,
      "outputs": [
        {
          "output_type": "execute_result",
          "data": {
            "text/plain": [
              "genre\n",
              "Country     325\n",
              "Hip-Hop     775\n",
              "Pop         872\n",
              "Rock       2513\n",
              "Name: lyrics, dtype: int64"
            ]
          },
          "metadata": {
            "tags": []
          },
          "execution_count": 7
        }
      ]
    },
    {
      "cell_type": "code",
      "metadata": {
        "id": "WMq8nK5jqk8x"
      },
      "source": [
        "X = df['lyrics']\n",
        "y = df['genre']\n",
        "\n",
        "label_encoder = skpp.LabelEncoder()\n",
        "y = np.array(label_encoder.fit_transform(y.values))"
      ],
      "execution_count": 8,
      "outputs": []
    },
    {
      "cell_type": "code",
      "metadata": {
        "id": "omUfXDc1qsUQ"
      },
      "source": [
        "MAXIMUM_WORDS = 30000\n",
        "\n",
        "tokenizer = text.Tokenizer(num_words=MAXIMUM_WORDS, oov_token=\"<NEG>\")\n",
        "tokenizer.fit_on_texts(df['lyrics'].values)"
      ],
      "execution_count": 9,
      "outputs": []
    },
    {
      "cell_type": "code",
      "metadata": {
        "id": "LgcFgvTKqtYW"
      },
      "source": [
        "tokenizer.word_index = {e:i for e,i in tokenizer.word_index.items() if i<= MAXIMUM_WORDS}\n",
        "tokenizer.word_index[tokenizer.oov_token] == MAXIMUM_WORDS + 1\n",
        "indexed_data = np.array(tokenizer.texts_to_sequences(df['lyrics'].values)) \n",
        "\n",
        "label_encoder = skpp.LabelEncoder()\n",
        "indexed_labels = np.array(label_encoder.fit_transform(df['genre'].values))"
      ],
      "execution_count": 10,
      "outputs": []
    },
    {
      "cell_type": "code",
      "metadata": {
        "id": "8uVpRDs0r3N5"
      },
      "source": [
        "random_indexes = np.random.permutation(len(indexed_labels))\n",
        "indexed_data = indexed_data[random_indexes]\n",
        "indexed_labels = indexed_labels[random_indexes]\n",
        "\n",
        "X_train = indexed_data[:-1000]\n",
        "y_train = indexed_labels[:-1000]\n",
        "X_test  = indexed_data[-1000:]\n",
        "y_test  = indexed_labels[-1000:]\n",
        "\n",
        "# y_train = keras.utils.to_categorical(y_train)\n",
        "# y_test = keras.utils.to_categorical(y_test)"
      ],
      "execution_count": 32,
      "outputs": []
    },
    {
      "cell_type": "code",
      "metadata": {
        "colab": {
          "base_uri": "https://localhost:8080/"
        },
        "id": "wFpqTrbnsddR",
        "outputId": "fcd88080-6434-4e94-998d-4dc4a5c97158"
      },
      "source": [
        "X_train.shape"
      ],
      "execution_count": 31,
      "outputs": [
        {
          "output_type": "execute_result",
          "data": {
            "text/plain": [
              "(3485,)"
            ]
          },
          "metadata": {
            "tags": []
          },
          "execution_count": 31
        }
      ]
    },
    {
      "cell_type": "code",
      "metadata": {
        "id": "rPSdluvGqzHo"
      },
      "source": [
        "train_X, test_X, train_y, test_y = train_test_split(indexed_data, indexed_labels, random_state=43, test_size=0.2, stratify=indexed_labels)\n",
        "val_X, test_X, val_y, test_y = train_test_split(test_X, test_y, random_state=43, test_size=0.5, stratify=test_y)"
      ],
      "execution_count": 22,
      "outputs": []
    },
    {
      "cell_type": "code",
      "metadata": {
        "colab": {
          "base_uri": "https://localhost:8080/"
        },
        "id": "KDIRgbRHsjei",
        "outputId": "b077d7a7-1a5d-45cb-a0de-737d4632606d"
      },
      "source": [
        "train_X.shape"
      ],
      "execution_count": 30,
      "outputs": [
        {
          "output_type": "execute_result",
          "data": {
            "text/plain": [
              "(3588,)"
            ]
          },
          "metadata": {
            "tags": []
          },
          "execution_count": 30
        }
      ]
    },
    {
      "cell_type": "code",
      "metadata": {
        "id": "lr9fGuEYqu3U"
      },
      "source": [
        "WORDS = MAXIMUM_WORDS + 2\n",
        "MAX_REVIEW_LENGTH = 1000\n",
        "\n",
        "X_train_padded = sequence.pad_sequences(X_train, maxlen=MAX_REVIEW_LENGTH)\n",
        "X_test_padded = sequence.pad_sequences(X_test, maxlen=MAX_REVIEW_LENGTH)"
      ],
      "execution_count": 33,
      "outputs": []
    },
    {
      "cell_type": "code",
      "metadata": {
        "id": "mHz31iQ1qx6q"
      },
      "source": [
        "model = Sequential()\n",
        "model.add(Embedding(WORDS, 50, input_length=MAX_REVIEW_LENGTH))\n",
        "model.add(LSTM(100, return_sequences=True))\n",
        "model.add(GlobalMaxPooling1D())\n",
        "model.add(Dense(1, activation='softmax'))\n",
        "model.compile(loss='categorical_crossentropy', optimizer='adam', metrics=['accuracy'])"
      ],
      "execution_count": 37,
      "outputs": []
    },
    {
      "cell_type": "code",
      "metadata": {
        "colab": {
          "base_uri": "https://localhost:8080/"
        },
        "id": "qn7uvT3Yq8OE",
        "outputId": "785c9cae-2cd1-4baf-a912-dafce9b2532e"
      },
      "source": [
        "model.fit(X_train_padded, y_train, steps_per_epoch=5, epochs=10, batch_size=32)\n",
        "scores = model.evaluate(X_test_padded, y_test, verbose=0)\n",
        "print(scores[1] * 100)"
      ],
      "execution_count": 39,
      "outputs": [
        {
          "output_type": "stream",
          "text": [
            "Epoch 1/10\n",
            "5/5 [==============================] - 3s 663ms/step - loss: 0.0000e+00 - accuracy: 0.1437\n",
            "Epoch 2/10\n",
            "5/5 [==============================] - 3s 674ms/step - loss: 0.0000e+00 - accuracy: 0.2937\n",
            "Epoch 3/10\n",
            "5/5 [==============================] - 3s 663ms/step - loss: 0.0000e+00 - accuracy: 0.1312\n",
            "Epoch 4/10\n",
            "5/5 [==============================] - 3s 670ms/step - loss: 0.0000e+00 - accuracy: 0.2375\n",
            "Epoch 5/10\n",
            "5/5 [==============================] - 3s 666ms/step - loss: 0.0000e+00 - accuracy: 0.1937\n",
            "Epoch 6/10\n",
            "5/5 [==============================] - 3s 670ms/step - loss: 0.0000e+00 - accuracy: 0.2062\n",
            "Epoch 7/10\n",
            "5/5 [==============================] - 3s 657ms/step - loss: 0.0000e+00 - accuracy: 0.1688\n",
            "Epoch 8/10\n",
            "5/5 [==============================] - 3s 673ms/step - loss: 0.0000e+00 - accuracy: 0.1500\n",
            "Epoch 9/10\n",
            "5/5 [==============================] - 3s 686ms/step - loss: 0.0000e+00 - accuracy: 0.2188\n",
            "Epoch 10/10\n",
            "5/5 [==============================] - 3s 671ms/step - loss: 0.0000e+00 - accuracy: 0.1562\n",
            "17.499999701976776\n"
          ],
          "name": "stdout"
        }
      ]
    }
  ]
}