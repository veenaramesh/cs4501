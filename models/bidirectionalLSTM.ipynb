{
  "nbformat": 4,
  "nbformat_minor": 0,
  "metadata": {
    "colab": {
      "name": "bidirectionalLSTM.ipynb",
      "provenance": []
    },
    "kernelspec": {
      "name": "python3",
      "display_name": "Python 3"
    }
  },
  "cells": [
    {
      "cell_type": "code",
      "metadata": {
        "id": "72zIqafPuvfj"
      },
      "source": [
        "import numpy as np\n",
        "import pandas as pd\n",
        "import tensorflow as tf\n",
        "\n",
        "import keras\n",
        "from keras.datasets import imdb\n",
        "from keras.models import Sequential\n",
        "from keras.layers import Dense\n",
        "from keras.layers import LSTM\n",
        "from keras.layers import Bidirectional\n",
        "\n",
        "from keras.layers import GlobalMaxPooling1D\n",
        "from keras.layers.embeddings import Embedding\n",
        "from keras.preprocessing import sequence, text\n",
        "import sklearn\n",
        "from sklearn import preprocessing as skpp \n",
        "from sklearn.model_selection import train_test_split"
      ],
      "execution_count": 31,
      "outputs": []
    },
    {
      "cell_type": "code",
      "metadata": {
        "id": "zE5tSVfIuyrZ"
      },
      "source": [
        "df = pd.read_csv(\"english_cleaned_lyrics.csv\") # get data"
      ],
      "execution_count": 4,
      "outputs": []
    },
    {
      "cell_type": "code",
      "metadata": {
        "colab": {
          "base_uri": "https://localhost:8080/"
        },
        "id": "3ogiIeowh2iP",
        "outputId": "1db0837e-7a21-4c21-ee5b-dee13518c1e8"
      },
      "source": [
        "df.genre.unique"
      ],
      "execution_count": 6,
      "outputs": [
        {
          "output_type": "execute_result",
          "data": {
            "text/plain": [
              "<bound method Series.unique of 0            Pop\n",
              "1            Pop\n",
              "2            Pop\n",
              "3            Pop\n",
              "4            Pop\n",
              "          ...   \n",
              "96953    Country\n",
              "96954    Country\n",
              "96955    Country\n",
              "96956    Hip-Hop\n",
              "96957       Jazz\n",
              "Name: genre, Length: 96958, dtype: object>"
            ]
          },
          "metadata": {
            "tags": []
          },
          "execution_count": 6
        }
      ]
    },
    {
      "cell_type": "code",
      "metadata": {
        "id": "5hiYY1HoG44r"
      },
      "source": [
        "def cleaning(data): \n",
        "  data.dropna(axis=0, inplace=True)\n",
        "\n",
        "  # Remove punctuation\n",
        "  data['lyrics'] = data['lyrics'].str.replace(\"[-\\?.,\\/#!$%\\^&\\*;:{}=\\_~()]\", ' ')\n",
        "    \n",
        "  # Remove song identifiers using regex\n",
        "  data['lyrics'] = data['lyrics'].str.replace(\"\\[(.*?)\\]\", ' ')\n",
        "  data['lyrics'] = data['lyrics'].str.replace(\"' | '\", ' ')\n",
        "  data['lyrics'] = data['lyrics'].str.replace('x[0-9]+', ' ')\n",
        "    \n",
        "  # Remove lyricless songs \n",
        "  data = data[data['lyrics'].str.strip().str.lower() != 'instrumental']\n",
        "    \n",
        "  # fix shit like [verse] and 'repeat x2'\n",
        "  data = data[~data['lyrics'].str.contains(r'[^\\x00-\\x7F]+')]\n",
        "  data = data[data['lyrics'].str.strip() != '']\n",
        "  data = data[data['genre'].str.lower() != 'not available']\n",
        "    \n",
        "  # Grouping Folk and Country to one genre\n",
        "  data['genre'] = np.where(data['genre'] == \"Folk\", \"Country\", data[\"genre\"])\n",
        "  \n",
        "  pop = data.loc[data['genre'] == 'Pop']\n",
        "  rock = data.loc[data['genre'] == 'Rock']\n",
        "  hiphop = data.loc[data['genre'] == 'Hip-Hop']\n",
        "  country = data.loc[data['genre'] == 'Country']\n",
        "\n",
        "  data = pd.concat([pop, rock, hiphop, country])\n",
        "\n",
        "  return data.copy()"
      ],
      "execution_count": 23,
      "outputs": []
    },
    {
      "cell_type": "code",
      "metadata": {
        "id": "2mIoElGYIcpZ"
      },
      "source": [
        "df = cleaning(df)"
      ],
      "execution_count": 24,
      "outputs": []
    },
    {
      "cell_type": "code",
      "metadata": {
        "colab": {
          "base_uri": "https://localhost:8080/",
          "height": 204
        },
        "id": "puo8SnQwLD6k",
        "outputId": "22491ac7-66a4-42ad-cc0b-644f4bb34127"
      },
      "source": [
        "df.head()"
      ],
      "execution_count": 25,
      "outputs": [
        {
          "output_type": "execute_result",
          "data": {
            "text/html": [
              "<div>\n",
              "<style scoped>\n",
              "    .dataframe tbody tr th:only-of-type {\n",
              "        vertical-align: middle;\n",
              "    }\n",
              "\n",
              "    .dataframe tbody tr th {\n",
              "        vertical-align: top;\n",
              "    }\n",
              "\n",
              "    .dataframe thead th {\n",
              "        text-align: right;\n",
              "    }\n",
              "</style>\n",
              "<table border=\"1\" class=\"dataframe\">\n",
              "  <thead>\n",
              "    <tr style=\"text-align: right;\">\n",
              "      <th></th>\n",
              "      <th>Unnamed: 0</th>\n",
              "      <th>index</th>\n",
              "      <th>song</th>\n",
              "      <th>year</th>\n",
              "      <th>artist</th>\n",
              "      <th>genre</th>\n",
              "      <th>lyrics</th>\n",
              "    </tr>\n",
              "  </thead>\n",
              "  <tbody>\n",
              "    <tr>\n",
              "      <th>0</th>\n",
              "      <td>0</td>\n",
              "      <td>0</td>\n",
              "      <td>ego-remix</td>\n",
              "      <td>2009</td>\n",
              "      <td>beyonce-knowles</td>\n",
              "      <td>Pop</td>\n",
              "      <td>Oh baby how you doing You know I'm gonna cut r...</td>\n",
              "    </tr>\n",
              "    <tr>\n",
              "      <th>1</th>\n",
              "      <td>1</td>\n",
              "      <td>1</td>\n",
              "      <td>then-tell-me</td>\n",
              "      <td>2009</td>\n",
              "      <td>beyonce-knowles</td>\n",
              "      <td>Pop</td>\n",
              "      <td>playin everything so easy it's like you seem s...</td>\n",
              "    </tr>\n",
              "    <tr>\n",
              "      <th>2</th>\n",
              "      <td>2</td>\n",
              "      <td>2</td>\n",
              "      <td>honesty</td>\n",
              "      <td>2009</td>\n",
              "      <td>beyonce-knowles</td>\n",
              "      <td>Pop</td>\n",
              "      <td>If you search For tenderness It isn't hard to ...</td>\n",
              "    </tr>\n",
              "    <tr>\n",
              "      <th>3</th>\n",
              "      <td>3</td>\n",
              "      <td>3</td>\n",
              "      <td>you-are-my-rock</td>\n",
              "      <td>2009</td>\n",
              "      <td>beyonce-knowles</td>\n",
              "      <td>Pop</td>\n",
              "      <td>Oh oh oh I oh oh oh I If I wrote a book about ...</td>\n",
              "    </tr>\n",
              "    <tr>\n",
              "      <th>4</th>\n",
              "      <td>4</td>\n",
              "      <td>4</td>\n",
              "      <td>black-culture</td>\n",
              "      <td>2009</td>\n",
              "      <td>beyonce-knowles</td>\n",
              "      <td>Pop</td>\n",
              "      <td>Party the people the people the party it's pop...</td>\n",
              "    </tr>\n",
              "  </tbody>\n",
              "</table>\n",
              "</div>"
            ],
            "text/plain": [
              "   Unnamed: 0  index  ... genre                                             lyrics\n",
              "0           0      0  ...   Pop  Oh baby how you doing You know I'm gonna cut r...\n",
              "1           1      1  ...   Pop  playin everything so easy it's like you seem s...\n",
              "2           2      2  ...   Pop  If you search For tenderness It isn't hard to ...\n",
              "3           3      3  ...   Pop  Oh oh oh I oh oh oh I If I wrote a book about ...\n",
              "4           4      4  ...   Pop  Party the people the people the party it's pop...\n",
              "\n",
              "[5 rows x 7 columns]"
            ]
          },
          "metadata": {
            "tags": []
          },
          "execution_count": 25
        }
      ]
    },
    {
      "cell_type": "code",
      "metadata": {
        "id": "7_73jdNRLBMJ"
      },
      "source": [
        "df.drop(labels=['Unnamed: 0', 'index', 'song', 'year', 'artist'], axis=1, inplace=True)"
      ],
      "execution_count": 26,
      "outputs": []
    },
    {
      "cell_type": "code",
      "metadata": {
        "colab": {
          "base_uri": "https://localhost:8080/",
          "height": 204
        },
        "id": "2H8Ts1ZlLOtf",
        "outputId": "03a78c49-8276-411e-d51e-cc2304f90c68"
      },
      "source": [
        "df.head()"
      ],
      "execution_count": 27,
      "outputs": [
        {
          "output_type": "execute_result",
          "data": {
            "text/html": [
              "<div>\n",
              "<style scoped>\n",
              "    .dataframe tbody tr th:only-of-type {\n",
              "        vertical-align: middle;\n",
              "    }\n",
              "\n",
              "    .dataframe tbody tr th {\n",
              "        vertical-align: top;\n",
              "    }\n",
              "\n",
              "    .dataframe thead th {\n",
              "        text-align: right;\n",
              "    }\n",
              "</style>\n",
              "<table border=\"1\" class=\"dataframe\">\n",
              "  <thead>\n",
              "    <tr style=\"text-align: right;\">\n",
              "      <th></th>\n",
              "      <th>genre</th>\n",
              "      <th>lyrics</th>\n",
              "    </tr>\n",
              "  </thead>\n",
              "  <tbody>\n",
              "    <tr>\n",
              "      <th>0</th>\n",
              "      <td>Pop</td>\n",
              "      <td>Oh baby how you doing You know I'm gonna cut r...</td>\n",
              "    </tr>\n",
              "    <tr>\n",
              "      <th>1</th>\n",
              "      <td>Pop</td>\n",
              "      <td>playin everything so easy it's like you seem s...</td>\n",
              "    </tr>\n",
              "    <tr>\n",
              "      <th>2</th>\n",
              "      <td>Pop</td>\n",
              "      <td>If you search For tenderness It isn't hard to ...</td>\n",
              "    </tr>\n",
              "    <tr>\n",
              "      <th>3</th>\n",
              "      <td>Pop</td>\n",
              "      <td>Oh oh oh I oh oh oh I If I wrote a book about ...</td>\n",
              "    </tr>\n",
              "    <tr>\n",
              "      <th>4</th>\n",
              "      <td>Pop</td>\n",
              "      <td>Party the people the people the party it's pop...</td>\n",
              "    </tr>\n",
              "  </tbody>\n",
              "</table>\n",
              "</div>"
            ],
            "text/plain": [
              "  genre                                             lyrics\n",
              "0   Pop  Oh baby how you doing You know I'm gonna cut r...\n",
              "1   Pop  playin everything so easy it's like you seem s...\n",
              "2   Pop  If you search For tenderness It isn't hard to ...\n",
              "3   Pop  Oh oh oh I oh oh oh I If I wrote a book about ...\n",
              "4   Pop  Party the people the people the party it's pop..."
            ]
          },
          "metadata": {
            "tags": []
          },
          "execution_count": 27
        }
      ]
    },
    {
      "cell_type": "code",
      "metadata": {
        "colab": {
          "base_uri": "https://localhost:8080/"
        },
        "id": "tdsBW20pu-Xk",
        "outputId": "a6f1b469-bbff-4f0b-cb27-455fe4848c0b"
      },
      "source": [
        "df.groupby(by='genre')['lyrics'].count()"
      ],
      "execution_count": 28,
      "outputs": [
        {
          "output_type": "execute_result",
          "data": {
            "text/plain": [
              "genre\n",
              "Country     8458\n",
              "Hip-Hop    10851\n",
              "Pop        15489\n",
              "Rock       43235\n",
              "Name: lyrics, dtype: int64"
            ]
          },
          "metadata": {
            "tags": []
          },
          "execution_count": 28
        }
      ]
    },
    {
      "cell_type": "code",
      "metadata": {
        "id": "JbiAhXT1L2TQ"
      },
      "source": [
        "X = df['lyrics']\n",
        "y = df['genre']\n",
        "\n",
        "label_encoder = skpp.LabelEncoder()\n",
        "y = np.array(label_encoder.fit_transform(y.values))"
      ],
      "execution_count": 29,
      "outputs": []
    },
    {
      "cell_type": "code",
      "metadata": {
        "id": "hoTmyY-Zu-sH"
      },
      "source": [
        "MAXIMUM_WORDS = 30000\n",
        "\n",
        "tokenizer = text.Tokenizer(num_words=MAXIMUM_WORDS, oov_token=\"<NEG>\")\n",
        "tokenizer.fit_on_texts(df['lyrics'].values)"
      ],
      "execution_count": 34,
      "outputs": []
    },
    {
      "cell_type": "code",
      "metadata": {
        "id": "mh7FuX-PwG3Y"
      },
      "source": [
        "tokenizer.word_index = {e:i for e,i in tokenizer.word_index.items() if i<= MAXIMUM_WORDS}\n",
        "tokenizer.word_index[tokenizer.oov_token] == MAXIMUM_WORDS + 1\n",
        "indexed_data = np.array(tokenizer.texts_to_sequences(df['lyrics'].values)) \n",
        "\n",
        "label_encoder = skpp.LabelEncoder()\n",
        "indexed_labels = np.array(label_encoder.fit_transform(df['genre'].values))"
      ],
      "execution_count": 35,
      "outputs": []
    },
    {
      "cell_type": "code",
      "metadata": {
        "id": "C5QWVObis29r"
      },
      "source": [
        "random_indexes = np.random.permutation(len(indexed_labels))\n",
        "indexed_data = indexed_data[random_indexes]\n",
        "indexed_labels = indexed_labels[random_indexes]\n",
        "\n",
        "X_train = indexed_data[:-1000]\n",
        "y_train = indexed_labels[:-1000]\n",
        "X_test  = indexed_data[-1000:]\n",
        "y_test  = indexed_labels[-1000:]"
      ],
      "execution_count": null,
      "outputs": []
    },
    {
      "cell_type": "code",
      "metadata": {
        "id": "RMeh-2VMMx0F"
      },
      "source": [
        "train_X, test_X, train_y, test_y = train_test_split(indexed_data, indexed_labels, random_state=43, test_size=0.2, stratify=indexed_labels)\n",
        "val_X, test_X, val_y, test_y = train_test_split(test_X, test_y, random_state=43, test_size=0.5, stratify=test_y)"
      ],
      "execution_count": 60,
      "outputs": []
    },
    {
      "cell_type": "code",
      "metadata": {
        "id": "FSLp82jhmNqS"
      },
      "source": [
        "WORDS = MAXIMUM_WORDS + 2\n",
        "MAX_REVIEW_LENGTH = 1000\n",
        "\n",
        "X_train_padded = sequence.pad_sequences(X_train, maxlen=MAX_REVIEW_LENGTH)\n",
        "X_test_padded = sequence.pad_sequences(X_test, maxlen=MAX_REVIEW_LENGTH)"
      ],
      "execution_count": 40,
      "outputs": []
    },
    {
      "cell_type": "code",
      "metadata": {
        "id": "pTSHaLb4yNRG"
      },
      "source": [
        "model = Sequential()\n",
        "model.add(Embedding(WORDS, 50, input_length=MAX_REVIEW_LENGTH))\n",
        "model.add(Bidirectional(LSTM(100, return_sequences=True)))\n",
        "model.add(GlobalMaxPooling1D())\n",
        "model.add(Dense(4, activation='softmax'))\n",
        "model.compile(loss='categorical_crossentropy', optimizer='adam', metrics=['accuracy'])"
      ],
      "execution_count": 43,
      "outputs": []
    },
    {
      "cell_type": "code",
      "metadata": {
        "colab": {
          "base_uri": "https://localhost:8080/"
        },
        "id": "DNjN0gzJytUh",
        "outputId": "469fc051-a4f4-45bc-e653-efffbe9f31bf"
      },
      "source": [
        "model.fit(X_train_padded, y_train, steps_per_epoch=5, epochs=10, batch_size=32)\n",
        "scores = model.evaluate(X_test_padded, y_test, verbose=0)\n",
        "print(scores[1] * 100)"
      ],
      "execution_count": 59,
      "outputs": [
        {
          "output_type": "stream",
          "text": [
            "Epoch 1/10\n",
            "5/5 [==============================] - 6s 1s/step - loss: 1.1653 - accuracy: 0.5562\n",
            "Epoch 2/10\n",
            "5/5 [==============================] - 6s 1s/step - loss: 1.0790 - accuracy: 0.6187\n",
            "Epoch 3/10\n",
            "5/5 [==============================] - 6s 1s/step - loss: 1.1452 - accuracy: 0.5625\n",
            "Epoch 4/10\n",
            "5/5 [==============================] - 6s 1s/step - loss: 1.2078 - accuracy: 0.5250\n",
            "Epoch 5/10\n",
            "5/5 [==============================] - 6s 1s/step - loss: 1.1357 - accuracy: 0.5813\n",
            "Epoch 6/10\n",
            "5/5 [==============================] - 6s 1s/step - loss: 1.1247 - accuracy: 0.5938\n",
            "Epoch 7/10\n",
            "5/5 [==============================] - 6s 1s/step - loss: 1.1905 - accuracy: 0.5312\n",
            "Epoch 8/10\n",
            "5/5 [==============================] - 6s 1s/step - loss: 1.1133 - accuracy: 0.5938\n",
            "Epoch 9/10\n",
            "5/5 [==============================] - 6s 1s/step - loss: 1.1077 - accuracy: 0.6125\n",
            "Epoch 10/10\n",
            "5/5 [==============================] - 6s 1s/step - loss: 1.1636 - accuracy: 0.5437\n",
            "55.48999905586243\n"
          ],
          "name": "stdout"
        }
      ]
    },
    {
      "cell_type": "code",
      "metadata": {
        "id": "RLMDD4vobYLE"
      },
      "source": [
        "from sklearn.metrics import f1_score"
      ],
      "execution_count": 45,
      "outputs": []
    },
    {
      "cell_type": "code",
      "metadata": {
        "id": "JNkkKV1Nnafo"
      },
      "source": [
        "y_predict = model.predict(X_test_padded)"
      ],
      "execution_count": 51,
      "outputs": []
    },
    {
      "cell_type": "code",
      "metadata": {
        "colab": {
          "base_uri": "https://localhost:8080/"
        },
        "id": "4BYBXW4wnPs_",
        "outputId": "78402eed-beb3-40a5-e818-c22f97ad26b1"
      },
      "source": [
        "f1_score(np.argmax(y_predict, axis=1), np.argmax(y_test, axis=1), average='micro')"
      ],
      "execution_count": 57,
      "outputs": [
        {
          "output_type": "execute_result",
          "data": {
            "text/plain": [
              "0.5549"
            ]
          },
          "metadata": {
            "tags": []
          },
          "execution_count": 57
        }
      ]
    },
    {
      "cell_type": "code",
      "metadata": {
        "colab": {
          "base_uri": "https://localhost:8080/"
        },
        "id": "kKbUCR8AorVD",
        "outputId": "dfc2c935-5a3f-45e4-f2c8-62a877a3685f"
      },
      "source": [
        "f1_score(np.argmax(y_predict, axis=1), np.argmax(y_test, axis=1), average='weighted')"
      ],
      "execution_count": 58,
      "outputs": [
        {
          "output_type": "execute_result",
          "data": {
            "text/plain": [
              "0.7137436491092675"
            ]
          },
          "metadata": {
            "tags": []
          },
          "execution_count": 58
        }
      ]
    }
  ]
}