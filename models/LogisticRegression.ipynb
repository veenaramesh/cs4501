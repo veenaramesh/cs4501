{
  "nbformat": 4,
  "nbformat_minor": 0,
  "metadata": {
    "colab": {
      "name": "LogisticRegression.ipynb",
      "provenance": [],
      "collapsed_sections": []
    },
    "kernelspec": {
      "name": "python3",
      "display_name": "Python 3"
    }
  },
  "cells": [
    {
      "cell_type": "code",
      "metadata": {
        "id": "V7vN_MiFqB79"
      },
      "source": [
        "import numpy as np\n",
        "import pandas as pd\n",
        "from sklearn.model_selection import train_test_split\n",
        "from sklearn import preprocessing as skpp\n",
        "from sklearn.feature_extraction.text import CountVectorizer, TfidfVectorizer\n",
        "from sklearn.metrics import confusion_matrix, accuracy_score, f1_score\n",
        "\n",
        "# ML Models\n",
        "from sklearn.linear_model import LogisticRegression\n",
        "from sklearn.tree import DecisionTreeClassifier\n",
        "from sklearn.svm import SVC, LinearSVC, NuSVC\n",
        "from sklearn.linear_model import SGDClassifier\n",
        "from sklearn.naive_bayes import MultinomialNB"
      ],
      "execution_count": 1,
      "outputs": []
    },
    {
      "cell_type": "code",
      "metadata": {
        "id": "dLj-6x6lsw3t"
      },
      "source": [
        "from pydrive.auth import GoogleAuth\n",
        "from pydrive.drive import GoogleDrive\n",
        "from google.colab import auth\n",
        "from oauth2client.client import GoogleCredentials\n",
        "np.random.seed(42)"
      ],
      "execution_count": 2,
      "outputs": []
    },
    {
      "cell_type": "code",
      "metadata": {
        "id": "R_ZsiFNDsxxV"
      },
      "source": [
        "auth.authenticate_user()\n",
        "gauth = GoogleAuth()\n",
        "gauth.credentials = GoogleCredentials.get_application_default()\n",
        "drive = GoogleDrive(gauth)"
      ],
      "execution_count": 3,
      "outputs": []
    },
    {
      "cell_type": "code",
      "metadata": {
        "id": "_PMVs3GpszmF"
      },
      "source": [
        "downloaded = drive.CreateFile({'id':\"1JJKTmOX7NnWHzx4HqXcSq9OKslrVBVuT\"})\n",
        "downloaded.GetContentFile('lyrics.csv')"
      ],
      "execution_count": 4,
      "outputs": []
    },
    {
      "cell_type": "code",
      "metadata": {
        "id": "nqIoMqTDqIw4"
      },
      "source": [
        "def formatdata(path):\n",
        "    data = pd.read_csv(path)\n",
        "    data = data[data['lyrics'].notnull()]\n",
        "    \n",
        "    # Remove punctuation\n",
        "    data['lyrics'] = data['lyrics'].str.replace(\"[-\\?.,\\/#!$%\\^&\\*;:{}=\\_~()]\", ' ')\n",
        "    \n",
        "    # Remove song identifiers using regex\n",
        "    data['lyrics'] = data['lyrics'].str.replace(\"\\[(.*?)\\]\", ' ')\n",
        "    data['lyrics'] = data['lyrics'].str.replace(\"' | '\", ' ')\n",
        "    data['lyrics'] = data['lyrics'].str.replace('x[0-9]+', ' ')\n",
        "    \n",
        "    # Remove lyricless songs \n",
        "    data = data[data['lyrics'].str.strip().str.lower() != 'instrumental']\n",
        "    \n",
        "    # fix shit like [verse] and 'repeat x2'\n",
        "    data = data[~data['lyrics'].str.contains(r'[^\\x00-\\x7F]+')]\n",
        "    data = data[data['lyrics'].str.strip() != '']\n",
        "    data = data[data['genre'].str.lower() != 'not available']\n",
        "    \n",
        "    # Grouping Folk and Country to one genre\n",
        "    data['genre'] = np.where(data['genre'] == \"Folk\", \"Country\", data[\"genre\"])\n",
        "    #data = data[data.genre != \"Other\"]\n",
        "    data = data[data['genre'].isin(['Rock', 'Pop', 'Hip-Hop', 'Country'])]\n",
        "    \n",
        "    return data.copy()"
      ],
      "execution_count": 5,
      "outputs": []
    },
    {
      "cell_type": "code",
      "metadata": {
        "id": "3gRPDQBV1RXH"
      },
      "source": [
        "data = formatdata(\"lyrics.csv\")[['lyrics', 'genre']]"
      ],
      "execution_count": 6,
      "outputs": []
    },
    {
      "cell_type": "code",
      "metadata": {
        "id": "Di8b9oK3wbp6"
      },
      "source": [
        "lyrics = data['lyrics'].values \n",
        "\n",
        "label_encoder = skpp.LabelEncoder()\n",
        "indexed_labels = np.array(label_encoder.fit_transform(data['genre'].values))"
      ],
      "execution_count": 7,
      "outputs": []
    },
    {
      "cell_type": "code",
      "metadata": {
        "colab": {
          "base_uri": "https://localhost:8080/",
          "height": 298
        },
        "id": "6h9aN1P64hQ1",
        "outputId": "4cd4c621-97d3-416e-cd27-a005e54ea03e"
      },
      "source": [
        "import matplotlib.pyplot as plt\n",
        "from collections import Counter\n",
        "ct = Counter(data['genre'])\n",
        "plt.bar(ct.keys(), ct.values())\n",
        "plt.title(\"Genre Distribution\")"
      ],
      "execution_count": 8,
      "outputs": [
        {
          "output_type": "execute_result",
          "data": {
            "text/plain": [
              "Text(0.5, 1.0, 'Genre Distribution')"
            ]
          },
          "metadata": {
            "tags": []
          },
          "execution_count": 8
        },
        {
          "output_type": "display_data",
          "data": {
            "image/png": "[encoded data removed]",
            "text/plain": [
              "<Figure size 432x288 with 1 Axes>"
            ]
          },
          "metadata": {
            "tags": [],
            "needs_background": "light"
          }
        }
      ]
    },
    {
      "cell_type": "code",
      "metadata": {
        "colab": {
          "base_uri": "https://localhost:8080/"
        },
        "id": "40m9mubz16Ri",
        "outputId": "ac417088-d85b-4053-8eec-54475ddc8336"
      },
      "source": [
        "label_encoder.classes_ # 0 -> Country, 1 ->  Hip-Hop, 2 -> POP, 3 -> Rock\""
      ],
      "execution_count": null,
      "outputs": [
        {
          "output_type": "execute_result",
          "data": {
            "text/plain": [
              "array(['Country', 'Hip-Hop', 'Pop', 'Rock'], dtype=object)"
            ]
          },
          "metadata": {
            "tags": []
          },
          "execution_count": 9
        }
      ]
    },
    {
      "cell_type": "code",
      "metadata": {
        "id": "qPrYK06d7V5W"
      },
      "source": [
        "# Test Train Split\n",
        "X_train, X_temp, y_train, y_temp = train_test_split(lyrics, indexed_labels, train_size=0.8)\n",
        "X_test, X_val, y_test, y_val = train_test_split(X_temp, y_temp, train_size=0.6)"
      ],
      "execution_count": 9,
      "outputs": []
    },
    {
      "cell_type": "code",
      "metadata": {
        "colab": {
          "base_uri": "https://localhost:8080/"
        },
        "id": "iMWCEpxQj_FO",
        "outputId": "3daf7503-b14b-4734-b7ca-d23cbdfcf5a8"
      },
      "source": [
        "#### Fit BoW\n",
        "cv = CountVectorizer(strip_accents='ascii', lowercase=True, stop_words='english', analyzer='word') #create the CountVectorizer object\n",
        "cv.fit(lyrics) #fit into our dataset\n",
        "\n",
        "#Creating bag of words representations\n",
        "bow = cv.transform(X_train) \n",
        "print(bow.shape[0], 'samples x ',bow.shape[1],'words in vocabulary')"
      ],
      "execution_count": 11,
      "outputs": [
        {
          "output_type": "stream",
          "text": [
            "138145 samples x  156253 words in vocabulary\n"
          ],
          "name": "stdout"
        }
      ]
    },
    {
      "cell_type": "code",
      "metadata": {
        "colab": {
          "base_uri": "https://localhost:8080/"
        },
        "id": "JkzIn1F_-Tux",
        "outputId": "c28ce7af-bb6c-4017-d117-1308d3e8ce1d"
      },
      "source": [
        "models = {'Logistic Regression':LogisticRegression(max_iter=500)}\n",
        "for the_model in models.keys():\n",
        "    print (\"Training\", the_model)\n",
        "    models[the_model].fit(bow, y_train)"
      ],
      "execution_count": null,
      "outputs": [
        {
          "output_type": "stream",
          "text": [
            "Training Logistic Regression\n"
          ],
          "name": "stdout"
        },
        {
          "output_type": "stream",
          "text": [
            "/usr/local/lib/python3.6/dist-packages/sklearn/linear_model/_logistic.py:940: ConvergenceWarning: lbfgs failed to converge (status=1):\n",
            "STOP: TOTAL NO. of ITERATIONS REACHED LIMIT.\n",
            "\n",
            "Increase the number of iterations (max_iter) or scale the data as shown in:\n",
            "    https://scikit-learn.org/stable/modules/preprocessing.html\n",
            "Please also refer to the documentation for alternative solver options:\n",
            "    https://scikit-learn.org/stable/modules/linear_model.html#logistic-regression\n",
            "  extra_warning_msg=_LOGISTIC_SOLVER_CONVERGENCE_MSG)\n"
          ],
          "name": "stderr"
        }
      ]
    },
    {
      "cell_type": "code",
      "metadata": {
        "id": "5IWj-No8GeGb",
        "colab": {
          "base_uri": "https://localhost:8080/"
        },
        "outputId": "29257f37-0294-4ab4-eeb0-7359f3fc2aa5"
      },
      "source": [
        "y_pred = models['Logistic Regression'].predict(cv.transform(X_test))\n",
        "y_true = y_test\n",
        "perc = lambda x: round(x * 100, 2)\n",
        "print(\"Confusion Matrix:\\n\", confusion_matrix(y_true, y_pred))\n",
        "print(\"Accuracy:\", perc( accuracy_score(y_true, y_pred)))\n",
        "print(\"F1:\", perc(f1_score(y_true, y_pred, average='weighted')))"
      ],
      "execution_count": null,
      "outputs": [
        {
          "output_type": "stream",
          "text": [
            "Confusion Matrix:\n",
            " [[ 662   26  157 1072]\n",
            " [  16 2011  238  364]\n",
            " [ 196  195 1573 2169]\n",
            " [ 567  251 1252 9973]]\n",
            "Accuracy: 68.62\n",
            "F1: 67.41\n"
          ],
          "name": "stdout"
        }
      ]
    },
    {
      "cell_type": "code",
      "metadata": {
        "id": "x1omqU2cG47J",
        "colab": {
          "base_uri": "https://localhost:8080/"
        },
        "outputId": "e52b8550-687b-4f04-bd06-16d1d2a56f36"
      },
      "source": [
        "tfidf = TfidfVectorizer()\n",
        "tfidf.fit(lyrics) #fit into our dataset\n",
        "\n",
        "#Creating bag of words representations\n",
        "tfidf_vect = tfidf.transform(X_train) \n",
        "print(tfidf_vect.shape[0], 'samples x ',tfidf_vect.shape[1],'words in vocabulary')"
      ],
      "execution_count": null,
      "outputs": [
        {
          "output_type": "stream",
          "text": [
            "138145 samples x  156253 words in vocabulary\n"
          ],
          "name": "stdout"
        }
      ]
    },
    {
      "cell_type": "code",
      "metadata": {
        "colab": {
          "base_uri": "https://localhost:8080/"
        },
        "id": "lPga7tFJyfoW",
        "outputId": "c0ee18bd-b9eb-4cbd-9585-f97bfb920372"
      },
      "source": [
        "models = {'Logistic Regression':LogisticRegression(max_iter=500)}\n",
        "for the_model in models.keys():\n",
        "    print (\"Training\", the_model)\n",
        "    models[the_model].fit(tfidf_vect, y_train)"
      ],
      "execution_count": null,
      "outputs": [
        {
          "output_type": "stream",
          "text": [
            "Training Logistic Regression\n"
          ],
          "name": "stdout"
        }
      ]
    },
    {
      "cell_type": "code",
      "metadata": {
        "colab": {
          "base_uri": "https://localhost:8080/"
        },
        "id": "pazXq4go3LZT",
        "outputId": "3053c6ab-9e9f-494f-e4db-5d71860a0cce"
      },
      "source": [
        "y_pred = models['Logistic Regression'].predict(tfidf.transform(X_test))\n",
        "y_true = y_test\n",
        "perc = lambda x: round(x * 100, 2)\n",
        "print(\"Confusion Matrix:\\n\", confusion_matrix(y_true, y_pred))\n",
        "print(\"Accuracy:\", perc( accuracy_score(y_true, y_pred)))\n",
        "print(\"F1:\", perc(f1_score(y_true, y_pred, average='weighted')))"
      ],
      "execution_count": null,
      "outputs": [
        {
          "output_type": "stream",
          "text": [
            "Confusion Matrix:\n",
            " [[  536     3   138  1240]\n",
            " [   10  1956   182   481]\n",
            " [  101   141  1233  2658]\n",
            " [  282    87   636 11038]]\n",
            "Accuracy: 71.24\n",
            "F1: 70.56\n"
          ],
          "name": "stdout"
        }
      ]
    },
    {
      "cell_type": "code",
      "metadata": {
        "id": "cEQgB0Nj4EPW"
      },
      "source": [
        "# Tune CountVecorizer + Logistic Reg"
      ],
      "execution_count": null,
      "outputs": []
    },
    {
      "cell_type": "code",
      "metadata": {
        "id": "Cg3UUpze8u6C",
        "colab": {
          "base_uri": "https://localhost:8080/"
        },
        "outputId": "d9c34467-058b-4a25-e9e3-022287bb05e1"
      },
      "source": [
        "from sklearn.pipeline import Pipeline\n",
        "from sklearn.model_selection import GridSearchCV\n",
        "from sklearn.model_selection import PredefinedSplit\n",
        "\n",
        "groups = np.repeat([-1,0], [100000, 10000])\n",
        "split = PredefinedSplit(groups)\n",
        "\n",
        "param_grid =  {'vectorizer__min_df': [1,5], \n",
        "              'vectorizer__max_df': [0.8, 1.0],\n",
        "              'classifier__C': [1.0, 0.1], \n",
        "              'classifier__fit_intercept': [True, False]}\n",
        "\n",
        "estimator = Pipeline([('vectorizer', CountVectorizer(lowercase=True, ngram_range=(1,1))),\n",
        "                 ('classifier', LogisticRegression(penalty=\"l2\", C=1, max_iter=200))])\n",
        "\n",
        "tuner = GridSearchCV(estimator=estimator, param_grid=param_grid, scoring='accuracy', n_jobs=-1, verbose=10, cv = split)\n",
        "tuner.fit(X_train, y_train)"
      ],
      "execution_count": 12,
      "outputs": [
        {
          "output_type": "stream",
          "text": [
            "Fitting 1 folds for each of 16 candidates, totalling 16 fits\n"
          ],
          "name": "stdout"
        },
        {
          "output_type": "stream",
          "text": [
            "[Parallel(n_jobs=-1)]: Using backend LokyBackend with 2 concurrent workers.\n",
            "[Parallel(n_jobs=-1)]: Done   1 tasks      | elapsed:  1.8min\n",
            "/usr/local/lib/python3.6/dist-packages/joblib/externals/loky/process_executor.py:691: UserWarning: A worker stopped while some jobs were given to the executor. This can be caused by a too short worker timeout or by a memory leak.\n",
            "  \"timeout or by a memory leak.\", UserWarning\n",
            "[Parallel(n_jobs=-1)]: Done   4 tasks      | elapsed:  4.1min\n",
            "[Parallel(n_jobs=-1)]: Done   9 tasks      | elapsed:  9.7min\n",
            "[Parallel(n_jobs=-1)]: Done  16 out of  16 | elapsed: 15.7min finished\n",
            "/usr/local/lib/python3.6/dist-packages/sklearn/linear_model/_logistic.py:940: ConvergenceWarning: lbfgs failed to converge (status=1):\n",
            "STOP: TOTAL NO. of ITERATIONS REACHED LIMIT.\n",
            "\n",
            "Increase the number of iterations (max_iter) or scale the data as shown in:\n",
            "    https://scikit-learn.org/stable/modules/preprocessing.html\n",
            "Please also refer to the documentation for alternative solver options:\n",
            "    https://scikit-learn.org/stable/modules/linear_model.html#logistic-regression\n",
            "  extra_warning_msg=_LOGISTIC_SOLVER_CONVERGENCE_MSG)\n"
          ],
          "name": "stderr"
        },
        {
          "output_type": "execute_result",
          "data": {
            "text/plain": [
              "GridSearchCV(cv=PredefinedSplit(test_fold=array([-1, -1, ...,  0,  0])),\n",
              "             error_score=nan,\n",
              "             estimator=Pipeline(memory=None,\n",
              "                                steps=[('vectorizer',\n",
              "                                        CountVectorizer(analyzer='word',\n",
              "                                                        binary=False,\n",
              "                                                        decode_error='strict',\n",
              "                                                        dtype=<class 'numpy.int64'>,\n",
              "                                                        encoding='utf-8',\n",
              "                                                        input='content',\n",
              "                                                        lowercase=True,\n",
              "                                                        max_df=1.0,\n",
              "                                                        max_features=None,\n",
              "                                                        min_df=1,\n",
              "                                                        ngram_range=(1, 1),\n",
              "                                                        preprocessor=None,...\n",
              "                                                           penalty='l2',\n",
              "                                                           random_state=None,\n",
              "                                                           solver='lbfgs',\n",
              "                                                           tol=0.0001,\n",
              "                                                           verbose=0,\n",
              "                                                           warm_start=False))],\n",
              "                                verbose=False),\n",
              "             iid='deprecated', n_jobs=-1,\n",
              "             param_grid={'classifier__C': [1.0, 0.1],\n",
              "                         'classifier__fit_intercept': [True, False],\n",
              "                         'vectorizer__max_df': [0.8, 1.0],\n",
              "                         'vectorizer__min_df': [1, 5]},\n",
              "             pre_dispatch='2*n_jobs', refit=True, return_train_score=False,\n",
              "             scoring='accuracy', verbose=10)"
            ]
          },
          "metadata": {
            "tags": []
          },
          "execution_count": 12
        }
      ]
    },
    {
      "cell_type": "code",
      "metadata": {
        "colab": {
          "base_uri": "https://localhost:8080/"
        },
        "id": "zKqwa2JKvdbU",
        "outputId": "19d4ab1b-bae3-4a35-998d-a6d924dfc4b4"
      },
      "source": [
        "tuner.best_params_"
      ],
      "execution_count": 16,
      "outputs": [
        {
          "output_type": "execute_result",
          "data": {
            "text/plain": [
              "{'classifier__C': 0.1,\n",
              " 'classifier__fit_intercept': True,\n",
              " 'vectorizer__max_df': 0.8,\n",
              " 'vectorizer__min_df': 1}"
            ]
          },
          "metadata": {
            "tags": []
          },
          "execution_count": 16
        }
      ]
    },
    {
      "cell_type": "code",
      "metadata": {
        "colab": {
          "base_uri": "https://localhost:8080/"
        },
        "id": "XXrag9T_whKw",
        "outputId": "7630d523-4ba8-4b2c-f379-adf4d28f7b16"
      },
      "source": [
        "tuner.best_score_"
      ],
      "execution_count": 17,
      "outputs": [
        {
          "output_type": "execute_result",
          "data": {
            "text/plain": [
              "0.7092"
            ]
          },
          "metadata": {
            "tags": []
          },
          "execution_count": 17
        }
      ]
    },
    {
      "cell_type": "code",
      "metadata": {
        "id": "KiJZJ_cP5CTi",
        "colab": {
          "base_uri": "https://localhost:8080/"
        },
        "outputId": "8b3fd1ac-0d35-4678-ed6f-368de082d3d0"
      },
      "source": [
        "param_grid =  {'vectorizer__min_df': [1,5], \n",
        "              'vectorizer__max_df': [0.8, 1.0],\n",
        "              'classifier__C': [1.0, 0.1], \n",
        "              'classifier__fit_intercept': [True, False]}\n",
        "\n",
        "estimator_tfidf = Pipeline([('vectorizer', TfidfVectorizer(lowercase=True, ngram_range=(1,1))),\n",
        "                 ('classifier', LogisticRegression(penalty=\"l2\", C=1, max_iter=200))])\n",
        "\n",
        "tuner2 = GridSearchCV(estimator=estimator_tfidf, param_grid=param_grid, scoring='accuracy', n_jobs=-1, verbose=10, cv = split)\n",
        "tuner2.fit(X_train, y_train)"
      ],
      "execution_count": 18,
      "outputs": [
        {
          "output_type": "stream",
          "text": [
            "Fitting 1 folds for each of 16 candidates, totalling 16 fits\n"
          ],
          "name": "stdout"
        },
        {
          "output_type": "stream",
          "text": [
            "[Parallel(n_jobs=-1)]: Using backend LokyBackend with 2 concurrent workers.\n",
            "[Parallel(n_jobs=-1)]: Done   1 tasks      | elapsed:  1.9min\n",
            "[Parallel(n_jobs=-1)]: Done   4 tasks      | elapsed:  4.0min\n",
            "/usr/local/lib/python3.6/dist-packages/joblib/externals/loky/process_executor.py:691: UserWarning: A worker stopped while some jobs were given to the executor. This can be caused by a too short worker timeout or by a memory leak.\n",
            "  \"timeout or by a memory leak.\", UserWarning\n",
            "[Parallel(n_jobs=-1)]: Done   9 tasks      | elapsed:  8.2min\n",
            "[Parallel(n_jobs=-1)]: Done  16 out of  16 | elapsed: 11.5min finished\n",
            "/usr/local/lib/python3.6/dist-packages/sklearn/linear_model/_logistic.py:940: ConvergenceWarning: lbfgs failed to converge (status=1):\n",
            "STOP: TOTAL NO. of ITERATIONS REACHED LIMIT.\n",
            "\n",
            "Increase the number of iterations (max_iter) or scale the data as shown in:\n",
            "    https://scikit-learn.org/stable/modules/preprocessing.html\n",
            "Please also refer to the documentation for alternative solver options:\n",
            "    https://scikit-learn.org/stable/modules/linear_model.html#logistic-regression\n",
            "  extra_warning_msg=_LOGISTIC_SOLVER_CONVERGENCE_MSG)\n"
          ],
          "name": "stderr"
        },
        {
          "output_type": "execute_result",
          "data": {
            "text/plain": [
              "GridSearchCV(cv=PredefinedSplit(test_fold=array([-1, -1, ...,  0,  0])),\n",
              "             error_score=nan,\n",
              "             estimator=Pipeline(memory=None,\n",
              "                                steps=[('vectorizer',\n",
              "                                        TfidfVectorizer(analyzer='word',\n",
              "                                                        binary=False,\n",
              "                                                        decode_error='strict',\n",
              "                                                        dtype=<class 'numpy.float64'>,\n",
              "                                                        encoding='utf-8',\n",
              "                                                        input='content',\n",
              "                                                        lowercase=True,\n",
              "                                                        max_df=1.0,\n",
              "                                                        max_features=None,\n",
              "                                                        min_df=1,\n",
              "                                                        ngram_range=(1, 1),\n",
              "                                                        norm='l2',\n",
              "                                                        prepro...\n",
              "                                                           penalty='l2',\n",
              "                                                           random_state=None,\n",
              "                                                           solver='lbfgs',\n",
              "                                                           tol=0.0001,\n",
              "                                                           verbose=0,\n",
              "                                                           warm_start=False))],\n",
              "                                verbose=False),\n",
              "             iid='deprecated', n_jobs=-1,\n",
              "             param_grid={'classifier__C': [1.0, 0.1],\n",
              "                         'classifier__fit_intercept': [True, False],\n",
              "                         'vectorizer__max_df': [0.8, 1.0],\n",
              "                         'vectorizer__min_df': [1, 5]},\n",
              "             pre_dispatch='2*n_jobs', refit=True, return_train_score=False,\n",
              "             scoring='accuracy', verbose=10)"
            ]
          },
          "metadata": {
            "tags": []
          },
          "execution_count": 18
        }
      ]
    },
    {
      "cell_type": "code",
      "metadata": {
        "colab": {
          "base_uri": "https://localhost:8080/"
        },
        "id": "0uWDpmCRwlgL",
        "outputId": "3983f4fd-7338-4089-f74c-9b77041db6ed"
      },
      "source": [
        "tuner2.best_score_"
      ],
      "execution_count": 19,
      "outputs": [
        {
          "output_type": "execute_result",
          "data": {
            "text/plain": [
              "0.7184"
            ]
          },
          "metadata": {
            "tags": []
          },
          "execution_count": 19
        }
      ]
    },
    {
      "cell_type": "code",
      "metadata": {
        "id": "xydfSDzE9KoR"
      },
      "source": [
        ""
      ],
      "execution_count": null,
      "outputs": []
    }
  ]
}